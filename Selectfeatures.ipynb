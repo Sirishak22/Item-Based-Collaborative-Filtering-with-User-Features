{
 "cells": [
  {
   "cell_type": "code",
   "execution_count": null,
   "metadata": {},
   "outputs": [],
   "source": [
    "# Importing necessary libraries\n",
    "import numpy as np\n",
    "import pandas as pd"
   ]
  },
  {
   "cell_type": "code",
   "execution_count": null,
   "metadata": {},
   "outputs": [],
   "source": [
    "# Reads the users data file with features\n",
    "header = ['user_id', 'age', 'sex', 'occupation','zipcode']\n",
    "users_data = pd.read_table('C:\\\\Users\\\\Sirivamsi\\\\Documents\\\\Big Data\\\\Project\\\\Project Files\\\\ml-100k\\\\u.user', sep='|', names=header)"
   ]
  },
  {
   "cell_type": "code",
   "execution_count": null,
   "metadata": {},
   "outputs": [],
   "source": [
    "# Reads the ratings of users on items\n",
    "header = ['user_id', 'item_id', 'rating', 'timestamp']\n",
    "df = pd.read_table('C:\\\\Users\\\\Sirivamsi\\\\Documents\\\\Big Data\\\\Project\\\\Project Files\\\\ml-100k\\\\u.data', sep='\\t', names=header)"
   ]
  },
  {
   "cell_type": "code",
   "execution_count": null,
   "metadata": {},
   "outputs": [],
   "source": [
    "# Merging the user features with item id's and ratings \n",
    "result = pd.merge(users_data, df, on='user_id')"
   ]
  },
  {
   "cell_type": "code",
   "execution_count": null,
   "metadata": {},
   "outputs": [],
   "source": [
    "# Reading only the features and target variable from the result dataframe\n",
    "df1 = result[['age','sex','occupation','zipcode','rating']]\n",
    "\n",
    "# Converting all the features into a matrix\n",
    "matrix1 = df1.as_matrix()"
   ]
  },
  {
   "cell_type": "code",
   "execution_count": null,
   "metadata": {},
   "outputs": [],
   "source": [
    "# Checking the data types of all the features\n",
    "df1.dtypes"
   ]
  },
  {
   "cell_type": "code",
   "execution_count": null,
   "metadata": {},
   "outputs": [],
   "source": [
    "from numpy import array\n",
    "from numpy import argmax\n",
    "from sklearn.preprocessing import LabelEncoder\n",
    "# Label Encoding the feature values which are of type object\n",
    "def encode(values):\n",
    "  label_encoder = LabelEncoder()\n",
    "  integer_encoded = label_encoder.fit_transform(values.ravel())\n",
    "  integer_encoded = integer_encoded.reshape(len(integer_encoded), 1)\n",
    "  return integer_encoded"
   ]
  },
  {
   "cell_type": "code",
   "execution_count": null,
   "metadata": {},
   "outputs": [],
   "source": [
    "values = matrix1[:,1:2]\n",
    "matrix3 = []\n",
    "# Calling the encode function to encode the values in feature(gender) column\n",
    "integer_encoded=encode(values)\n",
    "matrix3 = np.append(matrix1[:,0:1],integer_encoded,axis=1)\n",
    "values = matrix1[:,2:3]\n",
    "integer_encoded=encode(values)\n",
    "# Calling the encode function to encode the values in feature(occupation) column\n",
    "integer_encoded=encode(values)\n",
    "matrix3 = np.append(matrix3,integer_encoded,axis=1)\n",
    "values = matrix1[:,3:4]\n",
    "# Calling the encode function to encode the values in feature(zipcode) column\n",
    "integer_encoded=encode(values)\n",
    "matrix3 = np.append(matrix3,integer_encoded,axis=1)\n",
    "matrix3 = np.append(matrix3,matrix1[:,4:5],axis=1)\n",
    "print (matrix3)\n",
    "\n"
   ]
  },
  {
   "cell_type": "code",
   "execution_count": null,
   "metadata": {},
   "outputs": [],
   "source": [
    "# Converting the target column i.e ratings to an int array\n",
    "a = matrix3[:,4:5].ravel()\n",
    "b=np.array(a)\n",
    "a = np.array(b, dtype=np.int32)"
   ]
  },
  {
   "cell_type": "code",
   "execution_count": null,
   "metadata": {},
   "outputs": [],
   "source": [
    "# Necessary libraries needed to run Random Forest Classifier\n",
    "from sklearn.ensemble import RandomForestClassifier\n",
    "from sklearn.feature_selection import SelectFromModel\n",
    "\n",
    "classifier = RandomForestClassifier(n_estimators=10000, random_state=100, n_jobs=1)\n",
    "classifier.fit(matrix3[:,0:4],a)"
   ]
  },
  {
   "cell_type": "code",
   "execution_count": null,
   "metadata": {},
   "outputs": [],
   "source": [
    "# Printing the feature importances of all the features\n",
    "feat_labels = ['age','sex','occupation','zipcode']\n",
    "for feature in zip(feat_labels, classifier.feature_importances_):\n",
    "    print(feature)"
   ]
  }
 ],
 "metadata": {
  "kernelspec": {
   "display_name": "Python 3",
   "language": "python",
   "name": "python3"
  },
  "language_info": {
   "codemirror_mode": {
    "name": "ipython",
    "version": 3
   },
   "file_extension": ".py",
   "mimetype": "text/x-python",
   "name": "python",
   "nbconvert_exporter": "python",
   "pygments_lexer": "ipython3",
   "version": "3.6.4"
  }
 },
 "nbformat": 4,
 "nbformat_minor": 2
}
